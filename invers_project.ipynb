{
 "cells": [
  {
   "cell_type": "markdown",
   "metadata": {},
   "source": [
    "# 2D Matrix Invers Generator\n",
    "## Group Assignment\n",
    "Group Name: <br>\n",
    "Farel Arden - 001201900068 <br>\n",
    "Richard Owen H - 00120190026"
   ]
  },
  {
   "cell_type": "markdown",
   "metadata": {},
   "source": [
    "References: https://www.geeksforgeeks.org/take-matrix-input-from-user-in-python/"
   ]
  },
  {
   "cell_type": "code",
   "execution_count": 1,
   "metadata": {
    "scrolled": true
   },
   "outputs": [
    {
     "name": "stdout",
     "output_type": "stream",
     "text": [
      "Enter the first value of matrix: 10\n",
      "Enter the second value of matrix: 20\n",
      "Enter the third value of matrix: 30\n",
      "Enter the fourth value of matrix: 40\n"
     ]
    }
   ],
   "source": [
    "#array for 2d matrix\n",
    "\n",
    "a = int(input(\"Enter the first value of matrix: \"))\n",
    "b = int(input(\"Enter the second value of matrix: \"))\n",
    "c = int(input(\"Enter the third value of matrix: \"))\n",
    "d = int(input(\"Enter the fourth value of matrix: \"))\n",
    "\n",
    "matrix = [[a,b],\n",
    "          [c,d]]\n"
   ]
  },
  {
   "cell_type": "code",
   "execution_count": 2,
   "metadata": {},
   "outputs": [
    {
     "name": "stdout",
     "output_type": "stream",
     "text": [
      "[[10, 20], [30, 40]]\n"
     ]
    }
   ],
   "source": [
    "print(matrix)"
   ]
  },
  {
   "cell_type": "code",
   "execution_count": 3,
   "metadata": {},
   "outputs": [],
   "source": [
    "#formula: 1 / (ad-bc) * [[d,-b],[-c,a]]\n",
    "det = (a*d) - (b*c)\n",
    "x = 1 / det\n",
    "a = (a * x)\n",
    "b = (b * x)\n",
    "c = (c * x)\n",
    "d = (d * x)\n",
    "result = ([[d,-b],[-c,a]])"
   ]
  },
  {
   "cell_type": "code",
   "execution_count": 4,
   "metadata": {},
   "outputs": [
    {
     "name": "stdout",
     "output_type": "stream",
     "text": [
      "matrix:\n",
      "[[10, 20], [30, 40]]\n",
      "invers:\n",
      "[[-0.2, 0.1], [0.15, -0.05]]\n"
     ]
    }
   ],
   "source": [
    "if det==0:\n",
    "    print(\"There isn't any invers on the matrix\")\n",
    "else:\n",
    "    print(\"matrix:\")\n",
    "    print(matrix)\n",
    "    print(\"invers:\")\n",
    "    print(result)"
   ]
  },
  {
   "cell_type": "code",
   "execution_count": null,
   "metadata": {},
   "outputs": [],
   "source": []
  }
 ],
 "metadata": {
  "kernelspec": {
   "display_name": "Python 3",
   "language": "python",
   "name": "python3"
  },
  "language_info": {
   "codemirror_mode": {
    "name": "ipython",
    "version": 3
   },
   "file_extension": ".py",
   "mimetype": "text/x-python",
   "name": "python",
   "nbconvert_exporter": "python",
   "pygments_lexer": "ipython3",
   "version": "3.8.5"
  }
 },
 "nbformat": 4,
 "nbformat_minor": 4
}
